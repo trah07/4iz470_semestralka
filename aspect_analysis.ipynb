{
 "cells": [
  {
   "cell_type": "markdown",
   "metadata": {},
   "source": [
    "## Aspect-Based Sentiment Analysis"
   ]
  },
  {
   "cell_type": "markdown",
   "metadata": {},
   "source": [
    "## Load and preprocess data"
   ]
  },
  {
   "cell_type": "code",
   "execution_count": 1,
   "metadata": {},
   "outputs": [
    {
     "name": "stdout",
     "output_type": "stream",
     "text": [
      "           movie_title                     genres  year  \\\n",
      "0         The Fall Guy        action;comedy;drama  2024   \n",
      "1              Hellboy  action;adventure; fantasy  2019   \n",
      "2       Train to Busan     action;horror;thriller  2016   \n",
      "3  Mother of the Bride       comedy;drama;romance  2024   \n",
      "4        The Iron Claw      biography;drama;sport  2023   \n",
      "\n",
      "                                             reviews  \n",
      "0  \"A disappointing spectacle .\"; \"Absolute pure ...  \n",
      "1  \"Terrible Writing, Weird Directing and Awful C...  \n",
      "2  \"Unforgettable experience! One of the best zom...  \n",
      "3  \"Poor acting.\"; \"Another rom com nightmare .\";...  \n",
      "4  \"To me, this was good, but not great.\"; \"Wheth...  \n",
      "Number of reviews: 36\n",
      "    movie_title                     genres  year  \\\n",
      "0  The Fall Guy        action;comedy;drama  2024   \n",
      "0  The Fall Guy        action;comedy;drama  2024   \n",
      "0  The Fall Guy        action;comedy;drama  2024   \n",
      "1       Hellboy  action;adventure; fantasy  2019   \n",
      "1       Hellboy  action;adventure; fantasy  2019   \n",
      "\n",
      "                                             reviews  \n",
      "0                        A disappointing spectacle .  \n",
      "0      Absolute pure fun, you won't be disappointed.  \n",
      "0   One Of The Most Entertaining Films Of The Year .  \n",
      "1  Terrible Writing, Weird Directing and Awful CGI .  \n",
      "1         Neither a complete disaster nor a triumph.  \n"
     ]
    }
   ],
   "source": [
    "import pandas as pd\n",
    "import stanza\n",
    "\n",
    "# Load the Excel file\n",
    "file_path = './imdb_movies.xlsx'\n",
    "df = pd.read_excel(file_path)\n",
    "\n",
    "# Display the first few rows of the dataframe\n",
    "print(df.head())\n",
    "\n",
    "# Drop rows with missing values\n",
    "df.dropna(inplace=True)\n",
    "\n",
    "# Split semicolon-separated reviews into individual entries\n",
    "df['reviews'] = df['reviews'].apply(lambda x: [review.strip().strip('\"') for review in x.split(';')])\n",
    "\n",
    "# Explode the reviews into separate rows\n",
    "df_exploded = df.explode('reviews')\n",
    "\n",
    "# Print the length of the reviews column array\n",
    "print(f'Number of reviews: {len(df_exploded[\"reviews\"])}')\n",
    "\n",
    "# Display the first few rows after processing\n",
    "print(df_exploded.head())"
   ]
  },
  {
   "cell_type": "markdown",
   "metadata": {},
   "source": [
    "## Define aspect keywords and their synonyms with Stanza"
   ]
  },
  {
   "cell_type": "code",
   "execution_count": 5,
   "metadata": {},
   "outputs": [
    {
     "data": {
      "application/vnd.jupyter.widget-view+json": {
       "model_id": "7987636f11fd42f8873aa017f104d96f",
       "version_major": 2,
       "version_minor": 0
      },
      "text/plain": [
       "Downloading https://raw.githubusercontent.com/stanfordnlp/stanza-resources/main/resources_1.8.0.json:   0%|   …"
      ]
     },
     "metadata": {},
     "output_type": "display_data"
    },
    {
     "name": "stderr",
     "output_type": "stream",
     "text": [
      "2024-06-02 20:13:10 INFO: Downloaded file to C:\\Users\\Hoang Anh\\stanza_resources\\resources.json\n",
      "2024-06-02 20:13:10 INFO: Downloading default packages for language: en (English) ...\n",
      "2024-06-02 20:13:11 INFO: File exists: C:\\Users\\Hoang Anh\\stanza_resources\\en\\default.zip\n",
      "2024-06-02 20:13:16 INFO: Finished downloading models and saved to C:\\Users\\Hoang Anh\\stanza_resources\n",
      "2024-06-02 20:13:16 INFO: Checking for updates to resources.json in case models have been updated.  Note: this behavior can be turned off with download_method=None or download_method=DownloadMethod.REUSE_RESOURCES\n"
     ]
    },
    {
     "data": {
      "application/vnd.jupyter.widget-view+json": {
       "model_id": "3bb6008ade2d44ccb4d6102154f02d63",
       "version_major": 2,
       "version_minor": 0
      },
      "text/plain": [
       "Downloading https://raw.githubusercontent.com/stanfordnlp/stanza-resources/main/resources_1.8.0.json:   0%|   …"
      ]
     },
     "metadata": {},
     "output_type": "display_data"
    },
    {
     "name": "stderr",
     "output_type": "stream",
     "text": [
      "2024-06-02 20:13:16 INFO: Downloaded file to C:\\Users\\Hoang Anh\\stanza_resources\\resources.json\n",
      "2024-06-02 20:13:17 WARNING: Language en package default expects mwt, which has been added\n",
      "2024-06-02 20:13:17 INFO: Loading these models for language: en (English):\n",
      "=================================\n",
      "| Processor | Package           |\n",
      "---------------------------------\n",
      "| tokenize  | combined          |\n",
      "| mwt       | combined          |\n",
      "| lemma     | combined_nocharlm |\n",
      "=================================\n",
      "\n",
      "2024-06-02 20:13:17 INFO: Using device: cpu\n",
      "2024-06-02 20:13:17 INFO: Loading: tokenize\n",
      "2024-06-02 20:13:17 INFO: Loading: mwt\n",
      "2024-06-02 20:13:17 INFO: Loading: lemma\n",
      "2024-06-02 20:13:17 INFO: Done loading processors!\n"
     ]
    },
    {
     "name": "stdout",
     "output_type": "stream",
     "text": [
      "{'Meaning': {'positive': ['good', 'great', 'meaningful'], 'negative': ['lack', 'emptiness', 'doom']}, 'Quality': {'positive': ['excellent', 'impressive', 'outstanding', 'superb', 'amazing'], 'negative': ['poor', 'bad', 'awful', 'terrible', 'disappointing', 'mediocre', 'budget', 'low']}, 'Satisfaction': {'positive': ['enjoyable', 'satisfy', 'pleasurable', 'entertaining'], 'negative': ['boring', 'tedious', 'dull', 'displease']}}\n"
     ]
    }
   ],
   "source": [
    "stanza.download('en')\n",
    "nlp = stanza.Pipeline('en', processors='tokenize,lemma')\n",
    "\n",
    "# Aspect definition\n",
    "aspects_keywords = {\n",
    "    \"Meaning\": {\n",
    "        \"positive\": [\"good\", \"great\", \"meaningful\"],\n",
    "        \"negative\": [\"lacks\", \"emptiness\", \"doomed\"]\n",
    "    },\n",
    "    \"Quality\": {\n",
    "        \"positive\": [\"excellent\", \"impressive\", \"outstanding\", \"superb\", \"amazing\"],\n",
    "        \"negative\": [\"poor\", \"bad\", \"awful\", \"terrible\", \"disappointing\", \"mediocre\", \"low budget\"]\n",
    "    },\n",
    "    \"Satisfaction\": {\n",
    "        \"positive\": [\"enjoyable\", \"satisfying\", \"pleasurable\", \"entertaining\"],\n",
    "        \"negative\": [\"boring\", \"tedious\", \"dull\", \"displeasing\"]\n",
    "    }\n",
    "}\n",
    "\n",
    "# Get synonyms using Stanza for each aspect keyword\n",
    "def get_synonyms(word):\n",
    "    doc = nlp(word)\n",
    "    synonyms = set()\n",
    "    for sentence in doc.sentences:\n",
    "        for word in sentence.words:\n",
    "            synonyms.add(word.lemma)\n",
    "    return list(synonyms)\n",
    "\n",
    "# Create a dictionary of synonyms for aspect keywords\n",
    "synonyms_dict = {}\n",
    "for aspect, words in aspects_keywords.items():\n",
    "    synonyms_dict[aspect] = {\n",
    "        \"positive\": [],\n",
    "        \"negative\": []\n",
    "    }\n",
    "    for polarity in [\"positive\", \"negative\"]:\n",
    "        for keyword in words[polarity]:\n",
    "            synonyms = get_synonyms(keyword)\n",
    "            synonyms_dict[aspect][polarity].extend(synonyms)\n",
    "\n",
    "print(synonyms_dict)\n"
   ]
  },
  {
   "cell_type": "markdown",
   "metadata": {},
   "source": [
    "## Classifying words"
   ]
  },
  {
   "cell_type": "code",
   "execution_count": 8,
   "metadata": {},
   "outputs": [
    {
     "name": "stderr",
     "output_type": "stream",
     "text": [
      "2024-06-02 20:17:02 INFO: Checking for updates to resources.json in case models have been updated.  Note: this behavior can be turned off with download_method=None or download_method=DownloadMethod.REUSE_RESOURCES\n"
     ]
    },
    {
     "data": {
      "application/vnd.jupyter.widget-view+json": {
       "model_id": "3ff10e96143f4dd1ac290ad58832f473",
       "version_major": 2,
       "version_minor": 0
      },
      "text/plain": [
       "Downloading https://raw.githubusercontent.com/stanfordnlp/stanza-resources/main/resources_1.8.0.json:   0%|   …"
      ]
     },
     "metadata": {},
     "output_type": "display_data"
    },
    {
     "name": "stderr",
     "output_type": "stream",
     "text": [
      "2024-06-02 20:17:03 INFO: Downloaded file to C:\\Users\\Hoang Anh\\stanza_resources\\resources.json\n",
      "2024-06-02 20:17:03 WARNING: Language en package default expects mwt, which has been added\n",
      "2024-06-02 20:17:03 INFO: Loading these models for language: en (English):\n",
      "==============================\n",
      "| Processor | Package        |\n",
      "------------------------------\n",
      "| tokenize  | combined       |\n",
      "| mwt       | combined       |\n",
      "| sentiment | sstplus_charlm |\n",
      "==============================\n",
      "\n",
      "2024-06-02 20:17:03 INFO: Using device: cpu\n",
      "2024-06-02 20:17:03 INFO: Loading: tokenize\n",
      "2024-06-02 20:17:03 INFO: Loading: mwt\n",
      "2024-06-02 20:17:03 INFO: Loading: sentiment\n",
      "2024-06-02 20:17:04 INFO: Done loading processors!\n"
     ]
    },
    {
     "name": "stdout",
     "output_type": "stream",
     "text": [
      "    movie_title                     genres  year  \\\n",
      "0  The Fall Guy        action;comedy;drama  2024   \n",
      "0  The Fall Guy        action;comedy;drama  2024   \n",
      "0  The Fall Guy        action;comedy;drama  2024   \n",
      "1       Hellboy  action;adventure; fantasy  2019   \n",
      "1       Hellboy  action;adventure; fantasy  2019   \n",
      "\n",
      "                                             reviews  \\\n",
      "0                        A disappointing spectacle .   \n",
      "0      Absolute pure fun, you won't be disappointed.   \n",
      "0   One Of The Most Entertaining Films Of The Year .   \n",
      "1  Terrible Writing, Weird Directing and Awful CGI .   \n",
      "1         Neither a complete disaster nor a triumph.   \n",
      "\n",
      "                                            Sentence  \\\n",
      "0                        A disappointing spectacle .   \n",
      "0      Absolute pure fun, you won't be disappointed.   \n",
      "0   One Of The Most Entertaining Films Of The Year .   \n",
      "1  Terrible Writing, Weird Directing and Awful CGI .   \n",
      "1         Neither a complete disaster nor a triumph.   \n",
      "\n",
      "                                   Meaning_positive Meaning_negative  \\\n",
      "0                                                                      \n",
      "0  absolute pure fun , you wo n't be disappointed .                    \n",
      "0  one of the most entertaining films of the year .                    \n",
      "1                                                                      \n",
      "1                                                                      \n",
      "\n",
      "                                   Quality_positive Quality_negative  \\\n",
      "0                                                      disappointing   \n",
      "0  absolute pure fun , you wo n't be disappointed .                    \n",
      "0  one of the most entertaining films of the year .                    \n",
      "1                                                     terrible awful   \n",
      "1                                                                      \n",
      "\n",
      "                              Satisfaction_positive Satisfaction_negative  \n",
      "0                                                                          \n",
      "0  absolute pure fun , you wo n't be disappointed .                        \n",
      "0  one of the most entertaining films of the year .                        \n",
      "1                                                                          \n",
      "1                                                                          \n"
     ]
    }
   ],
   "source": [
    "# Initialize Stanza for sentiment analysis\n",
    "nlp_sentiment = stanza.Pipeline('en', processors='tokenize,sentiment')\n",
    "\n",
    "# Function to classify words to aspects using Stanza\n",
    "def classify_words(sentence):\n",
    "    aspect_positive_words = {aspect: [] for aspect in aspects_keywords.keys()}\n",
    "    aspect_negative_words = {aspect: [] for aspect in aspects_keywords.keys()}\n",
    "    \n",
    "    doc = nlp_sentiment(sentence)\n",
    "    for sent in doc.sentences:\n",
    "        for word in sent.words:\n",
    "            token = word.text.lower()\n",
    "            for aspect, words in synonyms_dict.items():\n",
    "                if token in words[\"positive\"]:\n",
    "                    aspect_positive_words[aspect].append(token)\n",
    "                elif token in words[\"negative\"]:\n",
    "                    aspect_negative_words[aspect].append(token)\n",
    "                else:\n",
    "                    # Using Stanza sentiment analysis at the word level\n",
    "                    sentiment_score = sent.sentiment\n",
    "                    if sentiment_score > 0:\n",
    "                        aspect_positive_words[aspect].append(token)\n",
    "                    elif sentiment_score < 0:\n",
    "                        aspect_negative_words[aspect].append(token)\n",
    "    return aspect_positive_words, aspect_negative_words\n",
    "\n",
    "# Apply the function to classify words in each review\n",
    "df_exploded['Sentence'] = df_exploded['reviews']\n",
    "classifications = df_exploded['Sentence'].apply(classify_words)\n",
    "\n",
    "# Extract aspect-based sentiment into separate columns\n",
    "for aspect in aspects_keywords.keys():\n",
    "    positive_col = f\"{aspect}_positive\"\n",
    "    negative_col = f\"{aspect}_negative\"\n",
    "    df_exploded[positive_col] = classifications.apply(lambda x: \" \".join(x[0][aspect]))\n",
    "    df_exploded[negative_col] = classifications.apply(lambda x: \" \".join(x[1][aspect]))\n",
    "\n",
    "# Display the dataframe with aspect-based sentiment columns\n",
    "print(df_exploded.head())\n"
   ]
  },
  {
   "cell_type": "markdown",
   "metadata": {},
   "source": [
    "## Output file"
   ]
  },
  {
   "cell_type": "code",
   "execution_count": 9,
   "metadata": {},
   "outputs": [
    {
     "name": "stdout",
     "output_type": "stream",
     "text": [
      "Results saved to ./imdb_movies_aspect_sentiment.xlsx\n"
     ]
    }
   ],
   "source": [
    "# Save the processed dataframe to a new Excel file\n",
    "output_file = './imdb_movies_aspect_sentiment.xlsx'\n",
    "df_exploded.to_excel(output_file, index=False)\n",
    "\n",
    "print(f\"Results saved to {output_file}\")"
   ]
  }
 ],
 "metadata": {
  "kernelspec": {
   "display_name": "Python 3",
   "language": "python",
   "name": "python3"
  },
  "language_info": {
   "codemirror_mode": {
    "name": "ipython",
    "version": 3
   },
   "file_extension": ".py",
   "mimetype": "text/x-python",
   "name": "python",
   "nbconvert_exporter": "python",
   "pygments_lexer": "ipython3",
   "version": "3.11.5"
  }
 },
 "nbformat": 4,
 "nbformat_minor": 2
}
